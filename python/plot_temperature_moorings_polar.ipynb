{
 "cells": [
  {
   "cell_type": "code",
   "execution_count": 34,
   "metadata": {
    "collapsed": true
   },
   "outputs": [],
   "source": [
    "import mooring\n",
    "import datetime\n",
    "import calendar\n",
    "import numpy as np\n",
    "import matplotlib.pyplot as plt\n",
    "import matplotlib.font_manager as fm"
   ]
  },
  {
   "cell_type": "code",
   "execution_count": 8,
   "metadata": {
    "collapsed": true
   },
   "outputs": [],
   "source": [
    "file_basename = \"http://thredds.socib.es/thredds/dodsC/mooring/conductivity_and_temperature_recorder/\"\n",
    "file_list = ['buoy_bahiadepalma-scb_sbe37005/L1/2014/dep0002_buoy-bahiadepalma_scb-sbe37005_L1_2014-06.nc',\n",
    "             'buoy_bahiadepalma-scb_sbe37005/L1/2014/dep0002_buoy-bahiadepalma_scb-sbe37005_L1_2014-07.nc',\n",
    "             'buoy_bahiadepalma-scb_sbe37005/L1/2014/dep0002_buoy-bahiadepalma_scb-sbe37005_L1_2014-08.nc',\n",
    "             'buoy_bahiadepalma-scb_sbe37005/L1/2015/dep0002_buoy-bahiadepalma_scb-sbe37005_L1_2015-06.nc',\n",
    "             'buoy_bahiadepalma-scb_sbe37005/L1/2015/dep0002_buoy-bahiadepalma_scb-sbe37005_L1_2015-07.nc',\n",
    "             'buoy_bahiadepalma-scb_sbe37005/L1/2015/dep0002_buoy-bahiadepalma_scb-sbe37005_L1_2015-08.nc',\n",
    "             'buoy_bahiadepalma-scb_sbe37007/L1/2016/dep0001_buoy-bahiadepalma_scb-sbe37007_L1_2016-06.nc',\n",
    "             'buoy_bahiadepalma-scb_sbe37007/L1/2016/dep0001_buoy-bahiadepalma_scb-sbe37007_L1_2016-07.nc',\n",
    "             'buoy_bahiadepalma-scb_sbe37007/L1/2016/dep0001_buoy-bahiadepalma_scb-sbe37007_L1_2016-08.nc',\n",
    "             'buoy_bahiadepalma-scb_sbe37007/L1/2017/dep0001_buoy-bahiadepalma_scb-sbe37007_L1_2017-06.nc',\n",
    "             'buoy_bahiadepalma-scb_sbe37007/L1/2017/dep0001_buoy-bahiadepalma_scb-sbe37007_L1_2017-07.nc',\n",
    "             'buoy_bahiadepalma-scb_sbe37007/L1/2017/dep0001_buoy-bahiadepalma_scb-sbe37007_L1_2017-08.nc',\n",
    "             'buoy_bahiadepalma-scb_sbe37006/L1/2018/dep0004_buoy-bahiadepalma_scb-sbe37006_L1_2018-06.nc',\n",
    "             'buoy_bahiadepalma-scb_sbe37006/L1/2018/dep0004_buoy-bahiadepalma_scb-sbe37006_L1_2018-07.nc',\n",
    "             'buoy_bahiadepalma-scb_sbe37006/L1/2018/dep0004_buoy-bahiadepalma_scb-sbe37006_L1_2018-08.nc']\n",
    "file_list = [file_basename + s for s in file_list]"
   ]
  },
  {
   "cell_type": "code",
   "execution_count": 9,
   "metadata": {},
   "outputs": [],
   "source": [
    "colordict = {2014: \"#FDB117\", 2015: \"#20BD00\", 2016: \"#6C5FBA\", \n",
    "             2017: \"#0FB5C4\", 2018: \"k\"}\n",
    "prop = fm.FontProperties(fname=\"/home/ctroupin/.fonts/Aileron-Regular.otf\")\n",
    "mooringName = \"Bahia de Palma\"\n",
    "figtitleT = 'Sea water temperature ($^{\\circ}$C)\\n at %s buoy' %(mooringName)\n",
    "figtitleS = 'Sea water salinity \\n at %s buoy' %(mooringName)\n",
    "\n",
    "timenow = datetime.datetime.now().strftime('%Y%m%d_%H%M')\n",
    "figname = \"T_bahiadepalma_\" + timenow + '.png'\n",
    "fignameS = \"S_bahiadepalma_\" + timenow + '.png'\n",
    "\n",
    "yearmin, yearmax = 2014, 2018\n",
    "monthmin, monthmax = 6, 8"
   ]
  },
  {
   "cell_type": "code",
   "execution_count": 10,
   "metadata": {
    "scrolled": false
   },
   "outputs": [
    {
     "ename": "NameError",
     "evalue": "name 'datemax' is not defined",
     "output_type": "error",
     "traceback": [
      "\u001b[0;31m---------------------------------------------------------------------------\u001b[0m",
      "\u001b[0;31mNameError\u001b[0m                                 Traceback (most recent call last)",
      "\u001b[0;32m<ipython-input-10-70f674a420f0>\u001b[0m in \u001b[0;36m<module>\u001b[0;34m()\u001b[0m\n\u001b[1;32m     14\u001b[0m \u001b[0;34m\u001b[0m\u001b[0m\n\u001b[1;32m     15\u001b[0m \u001b[0mymin\u001b[0m\u001b[0;34m,\u001b[0m \u001b[0mymax\u001b[0m \u001b[0;34m=\u001b[0m \u001b[0max\u001b[0m\u001b[0;34m.\u001b[0m\u001b[0mget_ylim\u001b[0m\u001b[0;34m(\u001b[0m\u001b[0;34m)\u001b[0m\u001b[0;34m\u001b[0m\u001b[0m\n\u001b[0;32m---> 16\u001b[0;31m plt.vlines(datemax.replace(year=int(yearmin)), \n\u001b[0m\u001b[1;32m     17\u001b[0m            ymin, Tmax, colors='k', linestyles='--', linewidth=.3)\n\u001b[1;32m     18\u001b[0m \u001b[0;31m# plt.savefig(figname, dpi=300, bbox_inches='tight', pad_inches=0)\u001b[0m\u001b[0;34m\u001b[0m\u001b[0;34m\u001b[0m\u001b[0m\n",
      "\u001b[0;31mNameError\u001b[0m: name 'datemax' is not defined"
     ]
    }
   ],
   "source": [
    "yearlist = []\n",
    "maxT = 0\n",
    "fig = plt.figure(figsize=(15, 8))\n",
    "ax = plt.subplot(111, projection='polar')\n",
    "\n",
    "for datafile in file_list[0:1]:\n",
    "    m = mooring.Mooring().get_from_nc(datafile)\n",
    "    m.apply_qc()\n",
    "    year = m.dates[0].year\n",
    "    month = m.dates[0].month\n",
    "    \n",
    "    m.special_qc()\n",
    "     \n",
    "\n",
    "# plt.savefig(figname, dpi=300, bbox_inches='tight', pad_inches=0)\n",
    "plt.show()\n",
    "plt.close()"
   ]
  },
  {
   "cell_type": "code",
   "execution_count": 32,
   "metadata": {},
   "outputs": [],
   "source": []
  },
  {
   "cell_type": "code",
   "execution_count": 29,
   "metadata": {
    "collapsed": true
   },
   "outputs": [],
   "source": []
  },
  {
   "cell_type": "code",
   "execution_count": 35,
   "metadata": {},
   "outputs": [],
   "source": [
    "def date2angle(date):\n",
    "    \"\"\"\n",
    "    Return an angle between 0 and 360 according to the time of the year\n",
    "    1st January 0:00 returns 0\n",
    "    \"\"\"\n",
    "    \n",
    "    ndays = 366 if calendar.isleap(date.year) else 365\n",
    "    dt = m1 - datetime.datetime(date.year, 1, 1, 0, 0, 0)\n",
    "    angle = 2 * np.pi * (dt.days + dt.seconds / 86400.) / ndays \n",
    "    return angle"
   ]
  },
  {
   "cell_type": "code",
   "execution_count": 36,
   "metadata": {},
   "outputs": [],
   "source": [
    "class date2angle(unittest.TestCase):\n",
    "\n",
    "    def test_upper(self):\n",
    "        self.assertEqual('foo'.upper(), 'FOO')\n",
    "\n",
    "    \"\"\"\n",
    "    def test_isupper(self):\n",
    "        self.assertTrue('FOO'.isupper())\n",
    "        self.assertFalse('Foo'.isupper())\n",
    "\n",
    "    def test_split(self):\n",
    "        s = 'hello world'\n",
    "        self.assertEqual(s.split(), ['hello', 'world'])\n",
    "        # check that s.split fails when the separator is not a string\n",
    "        with self.assertRaises(TypeError):\n",
    "            s.split(2)\n",
    "    \"\"\""
   ]
  },
  {
   "cell_type": "code",
   "execution_count": null,
   "metadata": {
    "collapsed": true
   },
   "outputs": [],
   "source": [
    "date\n",
    "date2angle(date)"
   ]
  }
 ],
 "metadata": {
  "kernelspec": {
   "display_name": "Diva-python3.6",
   "language": "python",
   "name": "diva-python3.6"
  },
  "language_info": {
   "codemirror_mode": {
    "name": "ipython",
    "version": 3
   },
   "file_extension": ".py",
   "mimetype": "text/x-python",
   "name": "python",
   "nbconvert_exporter": "python",
   "pygments_lexer": "ipython3",
   "version": "3.6.0"
  }
 },
 "nbformat": 4,
 "nbformat_minor": 2
}
